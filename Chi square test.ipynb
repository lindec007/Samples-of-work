{
 "cells": [
  {
   "cell_type": "code",
   "execution_count": 1,
   "id": "a007d0ad",
   "metadata": {},
   "outputs": [],
   "source": [
    "import pandas as pd\n",
    "from scipy import stats"
   ]
  },
  {
   "cell_type": "markdown",
   "id": "3286319a",
   "metadata": {},
   "source": [
    "# determine if the shade of lipstick and the price category are related"
   ]
  },
  {
   "cell_type": "code",
   "execution_count": 3,
   "id": "986b4f22",
   "metadata": {},
   "outputs": [],
   "source": [
    "lipstick = pd.read_csv(r'C:\\Users\\Candy\\Downloads\\lead_lipstick\\lead_lipstick.csv')"
   ]
  },
  {
   "cell_type": "code",
   "execution_count": 4,
   "id": "c7923c2a",
   "metadata": {},
   "outputs": [
    {
     "data": {
      "text/plain": [
       "<bound method NDFrame.head of     JRC_code purchCntry prodCntry    Pb  sdPb  shade prodType  priceCatgry\n",
       "0       C135         NL        NL  3.75  0.24    Red       LP            2\n",
       "1        C18         FI        FI  2.29  0.07    Red       LP            2\n",
       "2        C20         FI        IT  1.27  0.06    Red       LP            2\n",
       "3       C164         DE        FR  1.21  0.06    Red       LP            2\n",
       "4        C71         MT        UK  0.85  0.04    Red       LP            2\n",
       "..       ...        ...       ...   ...   ...    ...      ...          ...\n",
       "218     C108         IT        IT  0.24  0.01  Brown       LG            1\n",
       "219      C52         FR        FR  0.23  0.01  Brown       LG            2\n",
       "220      C14         PL        FR  0.19  0.01  Brown       LG            2\n",
       "221      C32         EL        DE  0.09  0.01  Brown       LG            1\n",
       "222     C124         AT        FR  0.04  0.01  Brown       LG            2\n",
       "\n",
       "[223 rows x 8 columns]>"
      ]
     },
     "execution_count": 4,
     "metadata": {},
     "output_type": "execute_result"
    }
   ],
   "source": [
    "lipstick.head"
   ]
  },
  {
   "cell_type": "code",
   "execution_count": 5,
   "id": "97184cda",
   "metadata": {},
   "outputs": [],
   "source": [
    "lipstick_crosstab = pd.crosstab(lipstick['shade'], lipstick['priceCatgry'])"
   ]
  },
  {
   "cell_type": "code",
   "execution_count": 6,
   "id": "5d674238",
   "metadata": {},
   "outputs": [
    {
     "data": {
      "text/plain": [
       "(7.860569553614045,\n",
       " 0.2484973879479863,\n",
       " 6,\n",
       " array([[14.26008969, 36.32286996,  9.41704036],\n",
       "        [19.25112108, 49.03587444, 12.71300448],\n",
       "        [ 8.79372197, 22.39910314,  5.80717489],\n",
       "        [10.69506726, 27.24215247,  7.06278027]]))"
      ]
     },
     "execution_count": 6,
     "metadata": {},
     "output_type": "execute_result"
    }
   ],
   "source": [
    "stats.chi2_contingency(lipstick_crosstab)"
   ]
  }
 ],
 "metadata": {
  "kernelspec": {
   "display_name": "Python 3",
   "language": "python",
   "name": "python3"
  },
  "language_info": {
   "codemirror_mode": {
    "name": "ipython",
    "version": 3
   },
   "file_extension": ".py",
   "mimetype": "text/x-python",
   "name": "python",
   "nbconvert_exporter": "python",
   "pygments_lexer": "ipython3",
   "version": "3.8.8"
  }
 },
 "nbformat": 4,
 "nbformat_minor": 5
}
